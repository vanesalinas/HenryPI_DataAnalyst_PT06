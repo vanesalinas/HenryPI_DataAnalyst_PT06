{
  "nbformat": 4,
  "nbformat_minor": 0,
  "metadata": {
    "colab": {
      "provenance": [],
      "include_colab_link": true
    },
    "kernelspec": {
      "name": "python3",
      "display_name": "Python 3"
    },
    "language_info": {
      "name": "python"
    }
  },
  "cells": [
    {
      "cell_type": "markdown",
      "metadata": {
        "id": "view-in-github",
        "colab_type": "text"
      },
      "source": [
        "<a href=\"https://colab.research.google.com/github/vanesalinas/HenryPI_DataAnalyst_PT06/blob/main/EDA.ipynb\" target=\"_parent\"><img src=\"https://colab.research.google.com/assets/colab-badge.svg\" alt=\"Open In Colab\"/></a>"
      ]
    },
    {
      "cell_type": "markdown",
      "source": [
        "# ***Exploratory Data Analysis (EDA)***\n",
        "---"
      ],
      "metadata": {
        "id": "R2PPqYeIKLof"
      }
    },
    {
      "cell_type": "markdown",
      "source": [
        "> Explorar, entender y evaluar la calidad de los datos es una condicion previa al procesamiento de los mismos. Este analisis nos permitira saber si los datos que tenemos son suficientes para cumplir con el objetivo planteado asi como tambien permite identificar patrones de comportamiento, predecir sucesos e identificar oportunidades para crear un plan de accion que permita alcanzar dicho objetivo."
      ],
      "metadata": {
        "id": "P9RQ3Tc5LBBD"
      }
    },
    {
      "cell_type": "markdown",
      "source": [
        "### ***Cargamos los datos y creamos un DataFrame***\n",
        "\n",
        "---\n",
        "Lo primero que haremos es cargar los datos en un DataFrame para poder manipularlos y observarlos.\n"
      ],
      "metadata": {
        "id": "ox1EnfbyoQrd"
      }
    },
    {
      "cell_type": "code",
      "execution_count": null,
      "metadata": {
        "id": "YIg2NBYLn-t0"
      },
      "outputs": [],
      "source": [
        "#importamos las librerías a utilizar\n",
        "\n",
        "import matplotlib.pyplot as plt\n",
        "import numpy as np\n",
        "import pandas as pd\n",
        "import seaborn as sns\n",
        "from scipy.stats import norm\n",
        "from sklearn.preprocessing import StandardScaler\n",
        "from scipy import stats\n",
        "import warnings\n",
        "warnings.filterwarnings('ignore') # Para evitar los avisos\n",
        "%matplotlib inline"
      ]
    },
    {
      "cell_type": "code",
      "source": [
        "#Utilizaremos el parámetro sheet_name para especificar la hoja de debemos leer\n",
        "df_hechos = pd.read_excel('/content/homicidios.xlsx', sheet_name='hechos')\n",
        "df_victimas = pd.read_excel('/content/homicidios.xlsx', sheet_name='victimas')"
      ],
      "metadata": {
        "id": "-BHnkfBwsRoh"
      },
      "execution_count": null,
      "outputs": []
    },
    {
      "cell_type": "markdown",
      "source": [
        "###***Visualizamos el DataFrame***\n",
        "---"
      ],
      "metadata": {
        "id": "40CY7AaQFXVD"
      }
    },
    {
      "cell_type": "code",
      "source": [
        "#mostramos los primeros 5 registros en el dataset\n",
        "df_hechos.head()"
      ],
      "metadata": {
        "id": "62CrGXBEF7AJ"
      },
      "execution_count": null,
      "outputs": []
    },
    {
      "cell_type": "code",
      "source": [
        "df_victimas.head()"
      ],
      "metadata": {
        "id": "KrIwz_f-GDJp"
      },
      "execution_count": null,
      "outputs": []
    },
    {
      "cell_type": "markdown",
      "source": [
        "### ***Y hacemos una exploracion de los datos***\n",
        "---"
      ],
      "metadata": {
        "id": "jYbYtNMdGKUP"
      }
    },
    {
      "cell_type": "markdown",
      "source": [
        "*   Visualizamos la informacion general del DataFrame: la cantidad de datos, nombres de las columnas, indices, tipos de datos y el espacio que ocupa en memoria.\n",
        "Conocer los tipos de datos de cada columna es importante ya que diferentes tipos de datos requieren diferentes técnicas de manejo y diferentes tipos de operaciones."
      ],
      "metadata": {
        "id": "9s19SLcAG6aR"
      }
    },
    {
      "cell_type": "code",
      "source": [
        "df_hechos.info()"
      ],
      "metadata": {
        "id": "dw2zyWeUGu3X"
      },
      "execution_count": null,
      "outputs": []
    },
    {
      "cell_type": "code",
      "source": [
        "df_victimas.info()"
      ],
      "metadata": {
        "id": "JZ_U3ytSG2p9"
      },
      "execution_count": null,
      "outputs": []
    },
    {
      "cell_type": "markdown",
      "source": [
        "*   Tamaño de DataFrame: verificamos la cantidad de filas y columnas de cada DataFrame\n"
      ],
      "metadata": {
        "id": "ph5Ikq6zIb25"
      }
    },
    {
      "cell_type": "code",
      "source": [
        "df_hechos.shape"
      ],
      "metadata": {
        "id": "SFzbJ2-5Iukw"
      },
      "execution_count": null,
      "outputs": []
    },
    {
      "cell_type": "code",
      "source": [
        "df_victimas.shape"
      ],
      "metadata": {
        "id": "8FBOSURVIzxo"
      },
      "execution_count": null,
      "outputs": []
    },
    {
      "cell_type": "markdown",
      "source": [
        "*   Resumen estadistico: nos muestra estadisticas de los datos numericos como valor minimo y maximo, media, desviacion estandar y cuartiles.\n",
        "\n"
      ],
      "metadata": {
        "id": "YRfsDmVXI4-w"
      }
    },
    {
      "cell_type": "code",
      "source": [
        "df_hechos.describe()"
      ],
      "metadata": {
        "id": "IsJ5WdESJnQo"
      },
      "execution_count": null,
      "outputs": []
    },
    {
      "cell_type": "code",
      "source": [
        "df_victimas.describe()"
      ],
      "metadata": {
        "id": "zeyF6CqRJrHG"
      },
      "execution_count": null,
      "outputs": []
    },
    {
      "cell_type": "markdown",
      "source": [
        "# ***Objetivo***\n",
        "---"
      ],
      "metadata": {
        "id": "oVR9AzVcObW_"
      }
    },
    {
      "cell_type": "markdown",
      "source": [
        "> El Observatorio de Movilidad y Seguridad Vial (OMSV), centro de estudios que se encuentra bajo la órbita de la Secretaría de Transporte del Gobierno de la Ciudad Autónoma de Buenos Aires, nos solicita la elaboración de un proyecto de anális de datos, con el fin de generar información que le permita a las autoridades locales tomar medidas para disminuir la cantidad de víctimas fatales de los siniestros viales.\n",
        "\n",
        "\n",
        "> Objetivo del proyecto de análisis de datos para reducir las víctimas fatales en siniestros viales:\n",
        "\n",
        "\"Utilizar técnicas de análisis de datos para identificar patrones, tendencias y factores de riesgo relacionados con los siniestros viales en la Ciudad Autónoma de Buenos Aires, con el fin de proporcionar información detallada y relevante a las autoridades locales. Esta información será utilizada para diseñar e implementar intervenciones efectivas, basadas en evidencia, para contribuir a la reducción significativa de la cantidad de víctimas fatales en accidentes de tráfico en el área urbana.\"\n",
        "\n",
        "\n"
      ],
      "metadata": {
        "id": "cP0Y9vctPU-X"
      }
    }
  ]
}