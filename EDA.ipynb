{
  "nbformat": 4,
  "nbformat_minor": 0,
  "metadata": {
    "colab": {
      "provenance": []
    },
    "kernelspec": {
      "name": "python3",
      "display_name": "Python 3"
    },
    "language_info": {
      "name": "python"
    }
  },
  "cells": [
    {
      "cell_type": "markdown",
      "source": [
        "### ***Cargar los datos y crear un DataFrame***\n",
        "\n",
        "---\n",
        "Lo primero que haremos es cargar los datos en un DataFrame para poder manipularlos y observarlos.\n"
      ],
      "metadata": {
        "id": "ox1EnfbyoQrd"
      }
    },
    {
      "cell_type": "code",
      "execution_count": null,
      "metadata": {
        "id": "YIg2NBYLn-t0"
      },
      "outputs": [],
      "source": []
    }
  ]
}